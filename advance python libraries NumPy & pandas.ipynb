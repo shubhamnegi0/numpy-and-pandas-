{
 "cells": [
  {
   "cell_type": "code",
   "execution_count": 1,
   "id": "5ee69d81",
   "metadata": {},
   "outputs": [],
   "source": [
    "# numPy = numerical python\n",
    "# # numpy is a python library used for working with arrays.\n",
    "# # numpy aims to provide an array object that is upto 50X faster than traditional pythonlists.\n",
    "# # the array object in numpy is called ndarray."
   ]
  },
  {
   "cell_type": "code",
   "execution_count": 2,
   "id": "027ec6ad",
   "metadata": {},
   "outputs": [],
   "source": [
    "# arrays vs list\n",
    "\n",
    "# arrays are very fast and memory efficient\n",
    "# 50X faster than list\n",
    "#  NumPy is the fundamental package for array computing with Python.\n"
   ]
  },
  {
   "cell_type": "code",
   "execution_count": 3,
   "id": "ed38a326",
   "metadata": {},
   "outputs": [
    {
     "name": "stdout",
     "output_type": "stream",
     "text": [
      "Defaulting to user installation because normal site-packages is not writeable\n",
      "Requirement already satisfied: numpy in c:\\programdata\\anaconda3\\lib\\site-packages (1.23.5)\n",
      "Note: you may need to restart the kernel to use updated packages.\n"
     ]
    }
   ],
   "source": [
    "pip install numpy"
   ]
  },
  {
   "cell_type": "code",
   "execution_count": 4,
   "id": "060c8201",
   "metadata": {},
   "outputs": [],
   "source": [
    "# # pip is a package manager for python that allows you to install additonal libraries and packages\n",
    "# conda install numpy"
   ]
  },
  {
   "cell_type": "markdown",
   "id": "467a9430",
   "metadata": {},
   "source": [
    "# checking version of NumPy"
   ]
  },
  {
   "cell_type": "code",
   "execution_count": 5,
   "id": "d7882fbc",
   "metadata": {},
   "outputs": [
    {
     "name": "stdout",
     "output_type": "stream",
     "text": [
      "Name: numpy\n",
      "Version: 1.23.5\n",
      "Summary: NumPy is the fundamental package for array computing with Python.\n",
      "Home-page: https://www.numpy.org\n",
      "Author: Travis E. Oliphant et al.\n",
      "Author-email: \n",
      "License: BSD\n",
      "Location: c:\\programdata\\anaconda3\\lib\\site-packages\n",
      "Requires: \n",
      "Required-by: astropy, bokeh, Bottleneck, category-encoders, contourpy, daal4py, datashader, datashape, gensim, h5py, holoviews, hvplot, imagecodecs, imageio, imbalanced-learn, matplotlib, mkl-fft, mkl-random, mlxtend, numba, numexpr, pandas, patsy, pyerfa, PyWavelets, scikit-image, scikit-learn, scipy, seaborn, statsmodels, tables, tifffile, transformers, xarray\n",
      "Note: you may need to restart the kernel to use updated packages.\n"
     ]
    }
   ],
   "source": [
    "pip show numpy"
   ]
  },
  {
   "cell_type": "markdown",
   "id": "abc141bc",
   "metadata": {},
   "source": [
    "# for checking python version\n"
   ]
  },
  {
   "cell_type": "code",
   "execution_count": 6,
   "id": "28099b58",
   "metadata": {},
   "outputs": [
    {
     "name": "stdout",
     "output_type": "stream",
     "text": [
      "Python 3.10.9\n"
     ]
    }
   ],
   "source": [
    "# for checking python version\n",
    "!python --version"
   ]
  },
  {
   "cell_type": "code",
   "execution_count": 7,
   "id": "49b23ccf",
   "metadata": {},
   "outputs": [
    {
     "name": "stdout",
     "output_type": "stream",
     "text": [
      "1.23.5\n"
     ]
    }
   ],
   "source": [
    "import numpy as np\n",
    "print(np.__version__)"
   ]
  },
  {
   "cell_type": "code",
   "execution_count": 8,
   "id": "167b28e9",
   "metadata": {},
   "outputs": [],
   "source": [
    "# pip  install -- upgrade numpy\n",
    "# for upgrade the libraries"
   ]
  },
  {
   "cell_type": "code",
   "execution_count": 9,
   "id": "e06a2798",
   "metadata": {},
   "outputs": [],
   "source": [
    "# dimensions in array\n",
    "# 1D arrays\n",
    "# 2D arrays\n",
    "# 3D aarays"
   ]
  },
  {
   "cell_type": "code",
   "execution_count": 10,
   "id": "d6905ff4",
   "metadata": {},
   "outputs": [
    {
     "name": "stdout",
     "output_type": "stream",
     "text": [
      "[1 2 3 4 5 6]\n",
      "<class 'numpy.ndarray'>\n",
      "6\n"
     ]
    }
   ],
   "source": [
    "import numpy as np \n",
    "arr1 = np.array([1,2,3,4,5,6])\n",
    "print(arr1)\n",
    "print(type(arr1))\n",
    "print(len(arr1))"
   ]
  },
  {
   "cell_type": "markdown",
   "id": "c3351960",
   "metadata": {},
   "source": [
    "# 0 - D array"
   ]
  },
  {
   "cell_type": "code",
   "execution_count": 11,
   "id": "adb2fa7f",
   "metadata": {},
   "outputs": [
    {
     "name": "stdout",
     "output_type": "stream",
     "text": [
      "[50]\n"
     ]
    }
   ],
   "source": [
    "arr2 = np.array([50])\n",
    "print(arr2)"
   ]
  },
  {
   "cell_type": "markdown",
   "id": "7158ca93",
   "metadata": {},
   "source": [
    "#  1- D array"
   ]
  },
  {
   "cell_type": "code",
   "execution_count": 12,
   "id": "f2833659",
   "metadata": {},
   "outputs": [
    {
     "name": "stdout",
     "output_type": "stream",
     "text": [
      "[1 2 3 4 5]\n"
     ]
    }
   ],
   "source": [
    "arr3 = np.array([1,2,3,4,5])\n",
    "print(arr3)"
   ]
  },
  {
   "cell_type": "markdown",
   "id": "fab45152",
   "metadata": {},
   "source": [
    "#  2- D array\n"
   ]
  },
  {
   "cell_type": "code",
   "execution_count": 13,
   "id": "6f4e5947",
   "metadata": {},
   "outputs": [
    {
     "data": {
      "text/plain": [
       "array([[1, 2, 3],\n",
       "       [4, 5, 6]])"
      ]
     },
     "execution_count": 13,
     "metadata": {},
     "output_type": "execute_result"
    }
   ],
   "source": [
    "arr4 = np.array([[1,2,3],[4,5,6]])\n",
    "arr4"
   ]
  },
  {
   "cell_type": "markdown",
   "id": "11b01fec",
   "metadata": {},
   "source": [
    "#  3- D array\n"
   ]
  },
  {
   "cell_type": "code",
   "execution_count": 14,
   "id": "49fb0d0c",
   "metadata": {},
   "outputs": [
    {
     "data": {
      "text/plain": [
       "array([[1, 2, 3],\n",
       "       [4, 5, 6],\n",
       "       [7, 8, 9]])"
      ]
     },
     "execution_count": 14,
     "metadata": {},
     "output_type": "execute_result"
    }
   ],
   "source": [
    "arr5 =np.array([[1,2,3],[4,5,6],[7,8,9]])\n",
    "arr5"
   ]
  },
  {
   "cell_type": "markdown",
   "id": "7bfcf49c",
   "metadata": {},
   "source": [
    "# check number of dimensions\n"
   ]
  },
  {
   "cell_type": "code",
   "execution_count": 15,
   "id": "450744ed",
   "metadata": {},
   "outputs": [
    {
     "name": "stdout",
     "output_type": "stream",
     "text": [
      "0\n",
      "1\n",
      "2\n",
      "3\n"
     ]
    }
   ],
   "source": [
    "import numpy as np\n",
    "a = np.array(10)\n",
    "b = np.array([10,20,30])\n",
    "c = np.array([[10,20,30],[40,50,60]])\n",
    "d= np.array([[[11,22,33],[44,55,66],[77,88,99]]])\n",
    "print(a.ndim)\n",
    "print(b.ndim)\n",
    "print(c.ndim)\n",
    "print(d.ndim)\n",
    "\n"
   ]
  },
  {
   "cell_type": "markdown",
   "id": "016ee8d5",
   "metadata": {},
   "source": [
    "# Pandas - panel data "
   ]
  },
  {
   "cell_type": "raw",
   "id": "6783e739",
   "metadata": {},
   "source": [
    "# # pandas is a open source library that is made mainly fo working with relational or labeled data both easily and intuitivity.\n",
    "# pandas is fast and it has high performance & productivity for users\n",
    "# it provides various data structures and operationas for manipulating numerical data and time se"
   ]
  },
  {
   "cell_type": "raw",
   "id": "e86a6d71",
   "metadata": {},
   "source": [
    "# pandas is a software library written for the Python programming language for data manipulation and analysis.\n",
    "# In particular, it offers data structures and operations for manipulating numerical tables and time series.\n",
    "# It is free software released under the three-clause BSD license.[2] \n",
    "# The name is derived from the term \"panel data\", an econometrics term for data sets that include observations over multiple time periods for the same individuals.[3]\n",
    "# Its name is a play on the phrase \"Python data analysis\" itself.[4] \n",
    "# Wes McKinney started building what would become pandas at AQR Capital while he was a researcher there from 2007 to 2010.[5]"
   ]
  },
  {
   "cell_type": "code",
   "execution_count": 16,
   "id": "d252160c",
   "metadata": {},
   "outputs": [],
   "source": [
    "import pandas as pd\n",
    "import numpy as np\n",
    "\n"
   ]
  },
  {
   "cell_type": "code",
   "execution_count": 17,
   "id": "44c8d956",
   "metadata": {},
   "outputs": [
    {
     "name": "stdout",
     "output_type": "stream",
     "text": [
      "0    1\n",
      "1    2\n",
      "2    3\n",
      "3    4\n",
      "4    5\n",
      "5    6\n",
      "6    7\n",
      "7    8\n",
      "8    9\n",
      "9    0\n",
      "dtype: int32\n"
     ]
    }
   ],
   "source": [
    "\n",
    "data = np.array([1,2,3,4,5,6,7,8,9,0])\n",
    "#print(data)\n",
    "\n",
    "ser1 = pd.Series(data)\n",
    "print(ser1)"
   ]
  },
  {
   "cell_type": "markdown",
   "id": "5bfb7236",
   "metadata": {},
   "source": [
    "# creating a data frame"
   ]
  },
  {
   "cell_type": "code",
   "execution_count": 18,
   "id": "6f26a78b",
   "metadata": {},
   "outputs": [
    {
     "data": {
      "text/html": [
       "<div>\n",
       "<style scoped>\n",
       "    .dataframe tbody tr th:only-of-type {\n",
       "        vertical-align: middle;\n",
       "    }\n",
       "\n",
       "    .dataframe tbody tr th {\n",
       "        vertical-align: top;\n",
       "    }\n",
       "\n",
       "    .dataframe thead th {\n",
       "        text-align: right;\n",
       "    }\n",
       "</style>\n",
       "<table border=\"1\" class=\"dataframe\">\n",
       "  <thead>\n",
       "    <tr style=\"text-align: right;\">\n",
       "      <th></th>\n",
       "      <th>0</th>\n",
       "    </tr>\n",
       "  </thead>\n",
       "  <tbody>\n",
       "    <tr>\n",
       "      <th>0</th>\n",
       "      <td>I</td>\n",
       "    </tr>\n",
       "    <tr>\n",
       "      <th>1</th>\n",
       "      <td>like</td>\n",
       "    </tr>\n",
       "    <tr>\n",
       "      <th>2</th>\n",
       "      <td>ice-creams</td>\n",
       "    </tr>\n",
       "    <tr>\n",
       "      <th>3</th>\n",
       "      <td>2</td>\n",
       "    </tr>\n",
       "    <tr>\n",
       "      <th>4</th>\n",
       "      <td>4</td>\n",
       "    </tr>\n",
       "    <tr>\n",
       "      <th>5</th>\n",
       "      <td>shiv</td>\n",
       "    </tr>\n",
       "    <tr>\n",
       "      <th>6</th>\n",
       "      <td>10</td>\n",
       "    </tr>\n",
       "  </tbody>\n",
       "</table>\n",
       "</div>"
      ],
      "text/plain": [
       "            0\n",
       "0           I\n",
       "1        like\n",
       "2  ice-creams\n",
       "3           2\n",
       "4           4\n",
       "5        shiv\n",
       "6          10"
      ]
     },
     "execution_count": 18,
     "metadata": {},
     "output_type": "execute_result"
    }
   ],
   "source": [
    "list1 = [\"I\",\"like\", \"ice-creams\",2,4,\"shiv\",10]\n",
    "df = pd.DataFrame(list1)\n",
    "df"
   ]
  },
  {
   "cell_type": "code",
   "execution_count": 19,
   "id": "0dcafdae",
   "metadata": {},
   "outputs": [
    {
     "data": {
      "text/html": [
       "<div>\n",
       "<style scoped>\n",
       "    .dataframe tbody tr th:only-of-type {\n",
       "        vertical-align: middle;\n",
       "    }\n",
       "\n",
       "    .dataframe tbody tr th {\n",
       "        vertical-align: top;\n",
       "    }\n",
       "\n",
       "    .dataframe thead th {\n",
       "        text-align: right;\n",
       "    }\n",
       "</style>\n",
       "<table border=\"1\" class=\"dataframe\">\n",
       "  <thead>\n",
       "    <tr style=\"text-align: right;\">\n",
       "      <th></th>\n",
       "      <th>0</th>\n",
       "    </tr>\n",
       "  </thead>\n",
       "  <tbody>\n",
       "    <tr>\n",
       "      <th>0</th>\n",
       "      <td>shri Ram</td>\n",
       "    </tr>\n",
       "    <tr>\n",
       "      <th>1</th>\n",
       "      <td>shri Krishna</td>\n",
       "    </tr>\n",
       "    <tr>\n",
       "      <th>2</th>\n",
       "      <td>om namah shivay</td>\n",
       "    </tr>\n",
       "    <tr>\n",
       "      <th>3</th>\n",
       "      <td>har har mahadev</td>\n",
       "    </tr>\n",
       "  </tbody>\n",
       "</table>\n",
       "</div>"
      ],
      "text/plain": [
       "                 0\n",
       "0         shri Ram\n",
       "1     shri Krishna\n",
       "2  om namah shivay\n",
       "3  har har mahadev"
      ]
     },
     "execution_count": 19,
     "metadata": {},
     "output_type": "execute_result"
    }
   ],
   "source": [
    "list2 = [\"shri Ram\",\"shri Krishna\", \"om namah shivay\",\"har har mahadev\"]\n",
    "df = pd.DataFrame(list2)\n",
    "df\n",
    " \n"
   ]
  },
  {
   "cell_type": "code",
   "execution_count": null,
   "id": "7dff4609",
   "metadata": {},
   "outputs": [],
   "source": []
  },
  {
   "cell_type": "code",
   "execution_count": 20,
   "id": "44c2ede6",
   "metadata": {},
   "outputs": [
    {
     "ename": "TypeError",
     "evalue": "'set' object is not callable",
     "output_type": "error",
     "traceback": [
      "\u001b[1;31m---------------------------------------------------------------------------\u001b[0m",
      "\u001b[1;31mTypeError\u001b[0m                                 Traceback (most recent call last)",
      "Cell \u001b[1;32mIn[20], line 11\u001b[0m\n\u001b[0;32m      8\u001b[0m \u001b[38;5;66;03m# print(\"Before renaming  the column\", df)\u001b[39;00m\n\u001b[0;32m      9\u001b[0m \u001b[38;5;66;03m#  to rename the columns\u001b[39;00m\n\u001b[0;32m     10\u001b[0m df\u001b[38;5;241m.\u001b[39mrename(columns\u001b[38;5;241m=\u001b[39m  {\u001b[38;5;241m0\u001b[39m:\u001b[38;5;124m\"\u001b[39m\u001b[38;5;124mname\u001b[39m\u001b[38;5;124m\"\u001b[39m},inplace\u001b[38;5;241m=\u001b[39m\u001b[38;5;28;01mTrue\u001b[39;00m)\n\u001b[1;32m---> 11\u001b[0m \u001b[43mdf\u001b[49m\u001b[38;5;241;43m.\u001b[39;49m\u001b[43mrename\u001b[49m\u001b[43m(\u001b[49m\u001b[43mcolumns\u001b[49m\u001b[38;5;241;43m=\u001b[39;49m\u001b[43m \u001b[49m\u001b[43m{\u001b[49m\u001b[38;5;124;43m\"\u001b[39;49m\u001b[38;5;124;43mlocation\u001b[39;49m\u001b[38;5;124;43m\"\u001b[39;49m\u001b[43m}\u001b[49m\u001b[43m)\u001b[49m\n\u001b[0;32m     12\u001b[0m df\n",
      "File \u001b[1;32mC:\\ProgramData\\anaconda3\\lib\\site-packages\\pandas\\core\\frame.py:5573\u001b[0m, in \u001b[0;36mDataFrame.rename\u001b[1;34m(self, mapper, index, columns, axis, copy, inplace, level, errors)\u001b[0m\n\u001b[0;32m   5454\u001b[0m \u001b[38;5;28;01mdef\u001b[39;00m \u001b[38;5;21mrename\u001b[39m(\n\u001b[0;32m   5455\u001b[0m     \u001b[38;5;28mself\u001b[39m,\n\u001b[0;32m   5456\u001b[0m     mapper: Renamer \u001b[38;5;241m|\u001b[39m \u001b[38;5;28;01mNone\u001b[39;00m \u001b[38;5;241m=\u001b[39m \u001b[38;5;28;01mNone\u001b[39;00m,\n\u001b[1;32m   (...)\u001b[0m\n\u001b[0;32m   5464\u001b[0m     errors: IgnoreRaise \u001b[38;5;241m=\u001b[39m \u001b[38;5;124m\"\u001b[39m\u001b[38;5;124mignore\u001b[39m\u001b[38;5;124m\"\u001b[39m,\n\u001b[0;32m   5465\u001b[0m ) \u001b[38;5;241m-\u001b[39m\u001b[38;5;241m>\u001b[39m DataFrame \u001b[38;5;241m|\u001b[39m \u001b[38;5;28;01mNone\u001b[39;00m:\n\u001b[0;32m   5466\u001b[0m     \u001b[38;5;124;03m\"\"\"\u001b[39;00m\n\u001b[0;32m   5467\u001b[0m \u001b[38;5;124;03m    Alter axes labels.\u001b[39;00m\n\u001b[0;32m   5468\u001b[0m \n\u001b[1;32m   (...)\u001b[0m\n\u001b[0;32m   5571\u001b[0m \u001b[38;5;124;03m    4  3  6\u001b[39;00m\n\u001b[0;32m   5572\u001b[0m \u001b[38;5;124;03m    \"\"\"\u001b[39;00m\n\u001b[1;32m-> 5573\u001b[0m     \u001b[38;5;28;01mreturn\u001b[39;00m \u001b[38;5;28;43msuper\u001b[39;49m\u001b[43m(\u001b[49m\u001b[43m)\u001b[49m\u001b[38;5;241;43m.\u001b[39;49m\u001b[43m_rename\u001b[49m\u001b[43m(\u001b[49m\n\u001b[0;32m   5574\u001b[0m \u001b[43m        \u001b[49m\u001b[43mmapper\u001b[49m\u001b[38;5;241;43m=\u001b[39;49m\u001b[43mmapper\u001b[49m\u001b[43m,\u001b[49m\n\u001b[0;32m   5575\u001b[0m \u001b[43m        \u001b[49m\u001b[43mindex\u001b[49m\u001b[38;5;241;43m=\u001b[39;49m\u001b[43mindex\u001b[49m\u001b[43m,\u001b[49m\n\u001b[0;32m   5576\u001b[0m \u001b[43m        \u001b[49m\u001b[43mcolumns\u001b[49m\u001b[38;5;241;43m=\u001b[39;49m\u001b[43mcolumns\u001b[49m\u001b[43m,\u001b[49m\n\u001b[0;32m   5577\u001b[0m \u001b[43m        \u001b[49m\u001b[43maxis\u001b[49m\u001b[38;5;241;43m=\u001b[39;49m\u001b[43maxis\u001b[49m\u001b[43m,\u001b[49m\n\u001b[0;32m   5578\u001b[0m \u001b[43m        \u001b[49m\u001b[43mcopy\u001b[49m\u001b[38;5;241;43m=\u001b[39;49m\u001b[43mcopy\u001b[49m\u001b[43m,\u001b[49m\n\u001b[0;32m   5579\u001b[0m \u001b[43m        \u001b[49m\u001b[43minplace\u001b[49m\u001b[38;5;241;43m=\u001b[39;49m\u001b[43minplace\u001b[49m\u001b[43m,\u001b[49m\n\u001b[0;32m   5580\u001b[0m \u001b[43m        \u001b[49m\u001b[43mlevel\u001b[49m\u001b[38;5;241;43m=\u001b[39;49m\u001b[43mlevel\u001b[49m\u001b[43m,\u001b[49m\n\u001b[0;32m   5581\u001b[0m \u001b[43m        \u001b[49m\u001b[43merrors\u001b[49m\u001b[38;5;241;43m=\u001b[39;49m\u001b[43merrors\u001b[49m\u001b[43m,\u001b[49m\n\u001b[0;32m   5582\u001b[0m \u001b[43m    \u001b[49m\u001b[43m)\u001b[49m\n",
      "File \u001b[1;32mC:\\ProgramData\\anaconda3\\lib\\site-packages\\pandas\\core\\generic.py:1104\u001b[0m, in \u001b[0;36mNDFrame._rename\u001b[1;34m(self, mapper, index, columns, axis, copy, inplace, level, errors)\u001b[0m\n\u001b[0;32m   1097\u001b[0m         missing_labels \u001b[38;5;241m=\u001b[39m [\n\u001b[0;32m   1098\u001b[0m             label\n\u001b[0;32m   1099\u001b[0m             \u001b[38;5;28;01mfor\u001b[39;00m index, label \u001b[38;5;129;01min\u001b[39;00m \u001b[38;5;28menumerate\u001b[39m(replacements)\n\u001b[0;32m   1100\u001b[0m             \u001b[38;5;28;01mif\u001b[39;00m indexer[index] \u001b[38;5;241m==\u001b[39m \u001b[38;5;241m-\u001b[39m\u001b[38;5;241m1\u001b[39m\n\u001b[0;32m   1101\u001b[0m         ]\n\u001b[0;32m   1102\u001b[0m         \u001b[38;5;28;01mraise\u001b[39;00m \u001b[38;5;167;01mKeyError\u001b[39;00m(\u001b[38;5;124mf\u001b[39m\u001b[38;5;124m\"\u001b[39m\u001b[38;5;132;01m{\u001b[39;00mmissing_labels\u001b[38;5;132;01m}\u001b[39;00m\u001b[38;5;124m not found in axis\u001b[39m\u001b[38;5;124m\"\u001b[39m)\n\u001b[1;32m-> 1104\u001b[0m new_index \u001b[38;5;241m=\u001b[39m \u001b[43max\u001b[49m\u001b[38;5;241;43m.\u001b[39;49m\u001b[43m_transform_index\u001b[49m\u001b[43m(\u001b[49m\u001b[43mf\u001b[49m\u001b[43m,\u001b[49m\u001b[43m \u001b[49m\u001b[43mlevel\u001b[49m\u001b[38;5;241;43m=\u001b[39;49m\u001b[43mlevel\u001b[49m\u001b[43m)\u001b[49m\n\u001b[0;32m   1105\u001b[0m result\u001b[38;5;241m.\u001b[39m_set_axis_nocheck(new_index, axis\u001b[38;5;241m=\u001b[39maxis_no, inplace\u001b[38;5;241m=\u001b[39m\u001b[38;5;28;01mTrue\u001b[39;00m, copy\u001b[38;5;241m=\u001b[39m\u001b[38;5;28;01mFalse\u001b[39;00m)\n\u001b[0;32m   1106\u001b[0m result\u001b[38;5;241m.\u001b[39m_clear_item_cache()\n",
      "File \u001b[1;32mC:\\ProgramData\\anaconda3\\lib\\site-packages\\pandas\\core\\indexes\\base.py:6416\u001b[0m, in \u001b[0;36mIndex._transform_index\u001b[1;34m(self, func, level)\u001b[0m\n\u001b[0;32m   6414\u001b[0m     \u001b[38;5;28;01mreturn\u001b[39;00m \u001b[38;5;28mtype\u001b[39m(\u001b[38;5;28mself\u001b[39m)\u001b[38;5;241m.\u001b[39mfrom_tuples(items, names\u001b[38;5;241m=\u001b[39m\u001b[38;5;28mself\u001b[39m\u001b[38;5;241m.\u001b[39mnames)\n\u001b[0;32m   6415\u001b[0m \u001b[38;5;28;01melse\u001b[39;00m:\n\u001b[1;32m-> 6416\u001b[0m     items \u001b[38;5;241m=\u001b[39m [func(x) \u001b[38;5;28;01mfor\u001b[39;00m x \u001b[38;5;129;01min\u001b[39;00m \u001b[38;5;28mself\u001b[39m]\n\u001b[0;32m   6417\u001b[0m     \u001b[38;5;28;01mreturn\u001b[39;00m Index(items, name\u001b[38;5;241m=\u001b[39m\u001b[38;5;28mself\u001b[39m\u001b[38;5;241m.\u001b[39mname, tupleize_cols\u001b[38;5;241m=\u001b[39m\u001b[38;5;28;01mFalse\u001b[39;00m)\n",
      "File \u001b[1;32mC:\\ProgramData\\anaconda3\\lib\\site-packages\\pandas\\core\\indexes\\base.py:6416\u001b[0m, in \u001b[0;36m<listcomp>\u001b[1;34m(.0)\u001b[0m\n\u001b[0;32m   6414\u001b[0m     \u001b[38;5;28;01mreturn\u001b[39;00m \u001b[38;5;28mtype\u001b[39m(\u001b[38;5;28mself\u001b[39m)\u001b[38;5;241m.\u001b[39mfrom_tuples(items, names\u001b[38;5;241m=\u001b[39m\u001b[38;5;28mself\u001b[39m\u001b[38;5;241m.\u001b[39mnames)\n\u001b[0;32m   6415\u001b[0m \u001b[38;5;28;01melse\u001b[39;00m:\n\u001b[1;32m-> 6416\u001b[0m     items \u001b[38;5;241m=\u001b[39m [\u001b[43mfunc\u001b[49m\u001b[43m(\u001b[49m\u001b[43mx\u001b[49m\u001b[43m)\u001b[49m \u001b[38;5;28;01mfor\u001b[39;00m x \u001b[38;5;129;01min\u001b[39;00m \u001b[38;5;28mself\u001b[39m]\n\u001b[0;32m   6417\u001b[0m     \u001b[38;5;28;01mreturn\u001b[39;00m Index(items, name\u001b[38;5;241m=\u001b[39m\u001b[38;5;28mself\u001b[39m\u001b[38;5;241m.\u001b[39mname, tupleize_cols\u001b[38;5;241m=\u001b[39m\u001b[38;5;28;01mFalse\u001b[39;00m)\n",
      "\u001b[1;31mTypeError\u001b[0m: 'set' object is not callable"
     ]
    }
   ],
   "source": [
    "list3 = [\"shubham\", \"ankush\", \"akshay\",\"rachel\"]\n",
    "df = pd.DataFrame(list3)\n",
    "age = [23,25,36,45]\n",
    "location = [\"mumbai\",\"pune\",\"delhi\",\"Mp\"]\n",
    "df[\"age\"]= age\n",
    "df[\"location\"] = location\n",
    "\n",
    "# print(\"Before renaming  the column\", df)\n",
    "#  to rename the columns\n",
    "df.rename(columns=  {0:\"name\"},inplace=True)\n",
    "df.rename(columns= {\"location\"})\n",
    "df"
   ]
  },
  {
   "cell_type": "code",
   "execution_count": null,
   "id": "5615e725",
   "metadata": {},
   "outputs": [],
   "source": [
    "#USE read_csv for reading a file."
   ]
  },
  {
   "cell_type": "code",
   "execution_count": null,
   "id": "0c4f65db",
   "metadata": {},
   "outputs": [],
   "source": [
    "df = pd.read_csv(\"drug200.csv\")\n",
    "#print first 5 rows\n",
    "df.head()\n"
   ]
  },
  {
   "cell_type": "code",
   "execution_count": null,
   "id": "a34f8ded",
   "metadata": {},
   "outputs": [],
   "source": [
    "#print last 5 rows\n",
    "df.tail()"
   ]
  },
  {
   "cell_type": "code",
   "execution_count": null,
   "id": "973bde5b",
   "metadata": {},
   "outputs": [],
   "source": [
    "# print no. of coloums and rows\n",
    "df.shape"
   ]
  },
  {
   "cell_type": "code",
   "execution_count": null,
   "id": "391a7915",
   "metadata": {
    "scrolled": true
   },
   "outputs": [],
   "source": [
    "# print no. of coloums and rows\n",
    "df.coloums"
   ]
  },
  {
   "cell_type": "code",
   "execution_count": null,
   "id": "adc8af27",
   "metadata": {},
   "outputs": [],
   "source": [
    "\n",
    "import matplotlib.pyplot as plt"
   ]
  },
  {
   "cell_type": "code",
   "execution_count": null,
   "id": "dbc9864a",
   "metadata": {},
   "outputs": [],
   "source": [
    "import pandas as pd\n",
    "data = {\"names\":[\"rajat\",\"shubh\",\"shri ram\",\"shri krishna\",\"shri ji\",\"ma janki\"],\n",
    "        \"age\":[25,28,30,22,21,29],\n",
    "        \"qualification\":[\"bsc\",\"msc\",\"bba\",\"mba\",\"ca\",\"btech\"]}\n",
    "df = pd.DataFrame(data)\n",
    "df\n",
    "print(df[[\"names\"]])\n",
    "print(df[[\"age\"]])"
   ]
  },
  {
   "cell_type": "code",
   "execution_count": null,
   "id": "b7ec95c1",
   "metadata": {},
   "outputs": [],
   "source": [
    "# # iloc index location\n",
    "# access single coloums \n",
    "row3  = df.iloc[2]\n",
    "row3"
   ]
  },
  {
   "cell_type": "markdown",
   "id": "214706b0",
   "metadata": {},
   "source": [
    "# Working with missing data "
   ]
  },
  {
   "cell_type": "code",
   "execution_count": null,
   "id": "7e025205",
   "metadata": {
    "scrolled": true
   },
   "outputs": [],
   "source": [
    "# filling missing values\n",
    "import numpy as np\n",
    "import pandas as pd\n",
    "data1 = {\"first_score\": [99,88,np.nan,94],\n",
    "        \"second_score\":[78,97,72,np.nan],\n",
    "        \"third_score\":[np.nan,40,50,42]}\n",
    "df = pd.DataFrame(data1)\n",
    "df\n"
   ]
  },
  {
   "cell_type": "code",
   "execution_count": null,
   "id": "5cd153ba",
   "metadata": {},
   "outputs": [],
   "source": [
    "df.isnull() #for finding null values use this code"
   ]
  },
  {
   "cell_type": "code",
   "execution_count": null,
   "id": "c63212be",
   "metadata": {},
   "outputs": [],
   "source": [
    "df.isnull().sum()"
   ]
  },
  {
   "cell_type": "code",
   "execution_count": null,
   "id": "c8e322de",
   "metadata": {},
   "outputs": [],
   "source": []
  },
  {
   "cell_type": "code",
   "execution_count": null,
   "id": "e4324fb1",
   "metadata": {},
   "outputs": [],
   "source": [
    "df1 =df.fillna(df[\"first_score\"].mean())\n",
    "df1\n"
   ]
  },
  {
   "cell_type": "code",
   "execution_count": null,
   "id": "bec71bef",
   "metadata": {},
   "outputs": [],
   "source": [
    "df.fillna(method=\"ffill\",inplace=True)\n",
    "df #ffill is used for fillinh front values"
   ]
  },
  {
   "cell_type": "code",
   "execution_count": null,
   "id": "039a9921",
   "metadata": {},
   "outputs": [],
   "source": [
    "df.fillna(method=\"bfill\",inplace=True)  #bfill is used forfilling back  values\n",
    "df\n"
   ]
  },
  {
   "cell_type": "code",
   "execution_count": null,
   "id": "9752d468",
   "metadata": {},
   "outputs": [],
   "source": [
    "import numpy as np\n",
    "import pandas as pd\n",
    "data1 = {\"first_score\": [99,88,np.nan,94],\n",
    "        \"second_score\":[78,97,72,np.nan],\n",
    "        \"third_score\":[np.nan,40,50,42]}\n",
    "df = pd.DataFrame(data1)\n",
    "df"
   ]
  },
  {
   "cell_type": "code",
   "execution_count": null,
   "id": "50a460cd",
   "metadata": {},
   "outputs": [],
   "source": [
    "df.dropna(inplace = True) #it will show the table which has no N/A arugments\n",
    "#df.dropna"
   ]
  },
  {
   "cell_type": "code",
   "execution_count": null,
   "id": "684e4e11",
   "metadata": {},
   "outputs": [],
   "source": [
    "df.dropna()"
   ]
  },
  {
   "cell_type": "code",
   "execution_count": null,
   "id": "871e7db1",
   "metadata": {},
   "outputs": [],
   "source": [
    "df"
   ]
  },
  {
   "cell_type": "code",
   "execution_count": null,
   "id": "8045493a",
   "metadata": {},
   "outputs": [],
   "source": [
    "data = {\"key\":[4,5,6,66,np.nan],\n",
    "       \"key2\":[20,10,55,np.nan,64],\n",
    "       \"key3\":[1,64,65,78,np.nan]}\n",
    "df =pd.DataFrame(data)\n",
    "df.dropna(axis=0,inplace=True)\n",
    "df\n"
   ]
  },
  {
   "cell_type": "code",
   "execution_count": null,
   "id": "30b7aa46",
   "metadata": {},
   "outputs": [],
   "source": [
    "data = {\"key\":[4,5,6,66,np.nan],\n",
    "       \"key2\":[20,10,55,np.nan,64],\n",
    "       \"key3\":[1,64,65,78,np.nan]}\n",
    "df =pd.DataFrame(data)\n",
    "df.dropna()\n"
   ]
  },
  {
   "cell_type": "code",
   "execution_count": null,
   "id": "c94903b0",
   "metadata": {},
   "outputs": [],
   "source": [
    "df.dropna(axis=0,inplace=True)\n",
    "df"
   ]
  },
  {
   "cell_type": "code",
   "execution_count": null,
   "id": "b994b0f0",
   "metadata": {},
   "outputs": [],
   "source": []
  },
  {
   "cell_type": "code",
   "execution_count": null,
   "id": "ec7d847e",
   "metadata": {},
   "outputs": [],
   "source": [
    "df.isnull().sum()"
   ]
  },
  {
   "cell_type": "code",
   "execution_count": null,
   "id": "c0b9a934",
   "metadata": {},
   "outputs": [],
   "source": [
    "df3=df.fillna(df[\"key\"].median())\n",
    "df3"
   ]
  },
  {
   "cell_type": "code",
   "execution_count": null,
   "id": "30dfc99a",
   "metadata": {},
   "outputs": [],
   "source": []
  },
  {
   "cell_type": "code",
   "execution_count": null,
   "id": "b3a3693c",
   "metadata": {},
   "outputs": [],
   "source": [
    "df3=df.fillna(df[\"key\"].mode()[0]) #mode is used for frequent used values\n",
    "df3"
   ]
  },
  {
   "cell_type": "markdown",
   "id": "cfeff162",
   "metadata": {},
   "source": [
    "# The Replace Method"
   ]
  },
  {
   "cell_type": "code",
   "execution_count": null,
   "id": "95bd1d66",
   "metadata": {},
   "outputs": [],
   "source": [
    "import pandas as pd\n",
    "import numpy as np"
   ]
  },
  {
   "cell_type": "code",
   "execution_count": null,
   "id": "3287c5f7",
   "metadata": {},
   "outputs": [],
   "source": [
    "df = pd.DataFrame({'A':[10,23,np.nan,10,np.nan],\n",
    "                  'B':[np.nan,np.nan,4.5,18,20],\n",
    "                  'C':[np.nan,'python','c++','react','java'],\n",
    "                  'D':['sound',np.nan,np.nan,'music','movies']})\n",
    "df"
   ]
  },
  {
   "cell_type": "code",
   "execution_count": null,
   "id": "4b025624",
   "metadata": {},
   "outputs": [],
   "source": [
    "df.shape"
   ]
  },
  {
   "cell_type": "code",
   "execution_count": null,
   "id": "f1f5e3bf",
   "metadata": {},
   "outputs": [],
   "source": [
    "df.columns"
   ]
  },
  {
   "cell_type": "code",
   "execution_count": null,
   "id": "99326231",
   "metadata": {},
   "outputs": [],
   "source": [
    "df.describe()"
   ]
  },
  {
   "cell_type": "code",
   "execution_count": null,
   "id": "253e6589",
   "metadata": {},
   "outputs": [],
   "source": [
    "df.isnull().sum()  #it is used to check the total null values in dataset."
   ]
  },
  {
   "cell_type": "code",
   "execution_count": null,
   "id": "3637217a",
   "metadata": {},
   "outputs": [],
   "source": [
    "#replaces null values with the mean\n",
    "df[\"A\"].replace([np.nan],df[\"A\"].mean(),inplace= True)\n",
    "df"
   ]
  },
  {
   "cell_type": "code",
   "execution_count": null,
   "id": "27223d8b",
   "metadata": {},
   "outputs": [],
   "source": [
    "df[\"B\"].replace([np.nan],df[\"A\"].mean(),inplace=True)\n",
    "df"
   ]
  },
  {
   "cell_type": "code",
   "execution_count": null,
   "id": "f3cfdecb",
   "metadata": {},
   "outputs": [],
   "source": []
  },
  {
   "cell_type": "code",
   "execution_count": null,
   "id": "105d3c84",
   "metadata": {},
   "outputs": [],
   "source": [
    "df = pd.DataFrame({'A':[10,23,np.nan,10,np.nan],\n",
    "                  'B':[np.nan,np.nan,4.5,18,20],\n",
    "                  'C':[np.nan,'python','c++','react','java'],\n",
    "                  'D':['sound',np.nan,np.nan,'music','movies']})\n",
    "df[\"C\"].replace([np.nan],df[\"C\"].mode()[0],inplace =True)\n",
    "df\n"
   ]
  },
  {
   "cell_type": "code",
   "execution_count": null,
   "id": "22ec9d72",
   "metadata": {},
   "outputs": [],
   "source": [
    "df = pd.DataFrame({'A':[10,23,np.nan,10,np.nan],\n",
    "                  'B':[np.nan,np.nan,4.5,18,20],\n",
    "                  'C':[np.nan,'python','c++','react','java'],\n",
    "                  'D':['sound',np.nan,np.nan,'music','movies']})\n",
    "df[\"D\"].replace([np.nan],\"pandas\",inplace= True)\n",
    "df\n"
   ]
  },
  {
   "cell_type": "raw",
   "id": "9e27a4a5",
   "metadata": {},
   "source": []
  },
  {
   "cell_type": "code",
   "execution_count": null,
   "id": "1c57a163",
   "metadata": {},
   "outputs": [],
   "source": [
    "df[\"A\"].replace([np.nan],\"ShirRam\",inplace = True)\n",
    "df"
   ]
  },
  {
   "cell_type": "markdown",
   "id": "1b916391",
   "metadata": {},
   "source": [
    "# fill missing data with interpolate"
   ]
  },
  {
   "cell_type": "code",
   "execution_count": null,
   "id": "c55c2773",
   "metadata": {},
   "outputs": [],
   "source": [
    "df = pd.DataFrame({'A':[10,23,np.nan,10,np.nan],\n",
    "                  'B':[np.nan,np.nan,4.5,18,20],\n",
    "                  'C':[np.nan,'python','c++','react','java'],\n",
    "                  'D':['sound',np.nan,np.nan,'music','movies']})\n",
    "\n",
    "df.interpolate(method= \"linear\",limit_direction=\"backward\",inplace = True)\n",
    "df"
   ]
  },
  {
   "cell_type": "markdown",
   "id": "9916a79a",
   "metadata": {},
   "source": []
  },
  {
   "cell_type": "code",
   "execution_count": null,
   "id": "5af6d3e5",
   "metadata": {},
   "outputs": [],
   "source": []
  },
  {
   "cell_type": "code",
   "execution_count": null,
   "id": "b5381d75",
   "metadata": {},
   "outputs": [],
   "source": []
  }
 ],
 "metadata": {
  "kernelspec": {
   "display_name": "Python 3 (ipykernel)",
   "language": "python",
   "name": "python3"
  },
  "language_info": {
   "codemirror_mode": {
    "name": "ipython",
    "version": 3
   },
   "file_extension": ".py",
   "mimetype": "text/x-python",
   "name": "python",
   "nbconvert_exporter": "python",
   "pygments_lexer": "ipython3",
   "version": "3.10.9"
  }
 },
 "nbformat": 4,
 "nbformat_minor": 5
}
